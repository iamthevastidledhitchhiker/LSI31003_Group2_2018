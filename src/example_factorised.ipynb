{
 "cells": [
  {
   "cell_type": "markdown",
   "metadata": {},
   "source": [
    "# Example"
   ]
  },
  {
   "cell_type": "markdown",
   "metadata": {},
   "source": [
    "## Training phase"
   ]
  },
  {
   "cell_type": "code",
   "execution_count": null,
   "metadata": {},
   "outputs": [],
   "source": [
    "from training import *"
   ]
  },
  {
   "cell_type": "markdown",
   "metadata": {},
   "source": [
    "Simply use **load_data** to *load* and *preprocess* the data. The preprocessing is done by applying **log** on the data, and transforming it to have **zero mean** and **unit variance**."
   ]
  },
  {
   "cell_type": "markdown",
   "metadata": {},
   "source": [
    "Additionally, one can use the **use_denoise** parameter, and that way the loading function calls the **denoise** function, which uses an **autoencoder** to remove *noise*. Its parameters are to be stored in a *dict* passed to the **denoise_params** parameter."
   ]
  },
  {
   "cell_type": "code",
   "execution_count": null,
   "metadata": {},
   "outputs": [],
   "source": [
    "#source, target = load_data(\"../Data/Person1Day1_3month.csv\", \"../Data/Person1Day2_3month.csv\", use_denoise = True, denoise_params = { \"verbose\": True })\n",
    "source, target = load_data(\"../Data/Person1Day1_3month.csv\", \"../Data/Person1Day2_3month.csv\")"
   ]
  },
  {
   "cell_type": "markdown",
   "metadata": {},
   "source": [
    "The actual *training* is done with an **MMD-ResNet** ; this net is created with the **create_network** function, and it is trained with **train_network**."
   ]
  },
  {
   "cell_type": "code",
   "execution_count": null,
   "metadata": {},
   "outputs": [],
   "source": [
    "(_, last_block), mmd_net = create_network(target.shape[1])"
   ]
  },
  {
   "cell_type": "code",
   "execution_count": null,
   "metadata": {},
   "outputs": [],
   "source": [
    "#train_network(mmd_net, source, target, last_block, verbose = True)\n",
    "train_network(mmd_net, source, target, last_block)"
   ]
  },
  {
   "cell_type": "markdown",
   "metadata": {},
   "source": [
    "## Using the *MMD-ResNet*"
   ]
  },
  {
   "cell_type": "markdown",
   "metadata": {},
   "source": [
    "The code behind this one is actually ridiculously trivial."
   ]
  },
  {
   "cell_type": "code",
   "execution_count": null,
   "metadata": {},
   "outputs": [],
   "source": [
    "calibrated_source = apply_network(mmd_net, source)"
   ]
  },
  {
   "cell_type": "markdown",
   "metadata": {},
   "source": [
    "## Assessing the results"
   ]
  },
  {
   "cell_type": "code",
   "execution_count": null,
   "metadata": {},
   "outputs": [],
   "source": [
    "from sklearn.decomposition import PCA\n",
    "\n",
    "from ScatterHist import scatterHist"
   ]
  },
  {
   "cell_type": "markdown",
   "metadata": {},
   "source": [
    "Just showing the two first *principal components*."
   ]
  },
  {
   "cell_type": "code",
   "execution_count": null,
   "metadata": {},
   "outputs": [],
   "source": [
    "pca = PCA()\n",
    "pca.fit(target)\n",
    "\n",
    "target_pca = pca.transform(target)\n",
    "source_pca = pca.transform(source)\n",
    "calibrated_pca = pca.transform(calibrated_source)"
   ]
  },
  {
   "cell_type": "code",
   "execution_count": null,
   "metadata": {},
   "outputs": [],
   "source": [
    "pc1, pc2 = 0, 1\n",
    "axis1, axis2 = [ \"PC{0}\".format(i) for i in [pc1, pc2] ]\n",
    "\n",
    "target_slices = target_pca[:, pc1], target_pca[:, pc2]\n",
    "source_slices = source_pca[:, pc1], source_pca[:, pc2]\n",
    "calibrated_slices = calibrated_pca[:, pc1], calibrated_pca[:, pc2]\n",
    "\n",
    "scatterHist(target_slices[0], target_slices[1], source_slices[0], source_slices[1], axis1, axis2)\n",
    "scatterHist(target_slices[0], target_slices[1], calibrated_slices[0], calibrated_slices[1], axis1, axis2)"
   ]
  }
 ],
 "metadata": {
  "kernelspec": {
   "display_name": "Python 3",
   "language": "python",
   "name": "python3"
  },
  "language_info": {
   "codemirror_mode": {
    "name": "ipython",
    "version": 3
   },
   "file_extension": ".py",
   "mimetype": "text/x-python",
   "name": "python",
   "nbconvert_exporter": "python",
   "pygments_lexer": "ipython3",
   "version": "3.6.2"
  }
 },
 "nbformat": 4,
 "nbformat_minor": 2
}
